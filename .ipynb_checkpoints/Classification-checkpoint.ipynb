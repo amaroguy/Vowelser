{
 "cells": [
  {
   "cell_type": "markdown",
   "id": "aff767ac-34ad-4279-9254-3b6860ce72c7",
   "metadata": {},
   "source": [
    "# DATASET PREP"
   ]
  },
  {
   "cell_type": "markdown",
   "id": "c481e754-c0a2-435e-b466-adc98a2f586f",
   "metadata": {},
   "source": [
    "Loading in audio files and feature extraction into a pandas df"
   ]
  },
  {
   "cell_type": "code",
   "execution_count": 15,
   "id": "5f2c53dd-4c19-4c63-a3e3-51a2ea36e846",
   "metadata": {},
   "outputs": [
    {
     "name": "stdout",
     "output_type": "stream",
     "text": [
      "Requirement already satisfied: pandas in c:\\users\\erick\\appdata\\local\\programs\\python\\python312\\lib\\site-packages (2.2.0)\n",
      "Requirement already satisfied: numpy<2,>=1.26.0 in c:\\users\\erick\\appdata\\local\\programs\\python\\python312\\lib\\site-packages (from pandas) (1.26.4)\n",
      "Requirement already satisfied: python-dateutil>=2.8.2 in c:\\users\\erick\\appdata\\local\\programs\\python\\python312\\lib\\site-packages (from pandas) (2.8.2)\n",
      "Requirement already satisfied: pytz>=2020.1 in c:\\users\\erick\\appdata\\local\\programs\\python\\python312\\lib\\site-packages (from pandas) (2024.1)\n",
      "Requirement already satisfied: tzdata>=2022.7 in c:\\users\\erick\\appdata\\local\\programs\\python\\python312\\lib\\site-packages (from pandas) (2023.4)\n",
      "Requirement already satisfied: six>=1.5 in c:\\users\\erick\\appdata\\local\\programs\\python\\python312\\lib\\site-packages (from python-dateutil>=2.8.2->pandas) (1.16.0)\n",
      "Requirement already satisfied: scikit-learn in c:\\users\\erick\\appdata\\local\\programs\\python\\python312\\lib\\site-packages (1.4.2)\n",
      "Requirement already satisfied: numpy>=1.19.5 in c:\\users\\erick\\appdata\\local\\programs\\python\\python312\\lib\\site-packages (from scikit-learn) (1.26.4)\n",
      "Requirement already satisfied: scipy>=1.6.0 in c:\\users\\erick\\appdata\\local\\programs\\python\\python312\\lib\\site-packages (from scikit-learn) (1.13.0)\n",
      "Requirement already satisfied: joblib>=1.2.0 in c:\\users\\erick\\appdata\\local\\programs\\python\\python312\\lib\\site-packages (from scikit-learn) (1.4.0)\n",
      "Requirement already satisfied: threadpoolctl>=2.0.0 in c:\\users\\erick\\appdata\\local\\programs\\python\\python312\\lib\\site-packages (from scikit-learn) (3.4.0)\n",
      "Requirement already satisfied: librosa in c:\\users\\erick\\appdata\\local\\programs\\python\\python312\\lib\\site-packages (0.10.1)\n",
      "Requirement already satisfied: audioread>=2.1.9 in c:\\users\\erick\\appdata\\local\\programs\\python\\python312\\lib\\site-packages (from librosa) (3.0.1)\n",
      "Requirement already satisfied: numpy!=1.22.0,!=1.22.1,!=1.22.2,>=1.20.3 in c:\\users\\erick\\appdata\\local\\programs\\python\\python312\\lib\\site-packages (from librosa) (1.26.4)\n",
      "Requirement already satisfied: scipy>=1.2.0 in c:\\users\\erick\\appdata\\local\\programs\\python\\python312\\lib\\site-packages (from librosa) (1.13.0)\n",
      "Requirement already satisfied: scikit-learn>=0.20.0 in c:\\users\\erick\\appdata\\local\\programs\\python\\python312\\lib\\site-packages (from librosa) (1.4.2)\n",
      "Requirement already satisfied: joblib>=0.14 in c:\\users\\erick\\appdata\\local\\programs\\python\\python312\\lib\\site-packages (from librosa) (1.4.0)\n",
      "Requirement already satisfied: decorator>=4.3.0 in c:\\users\\erick\\appdata\\local\\programs\\python\\python312\\lib\\site-packages (from librosa) (5.1.1)\n",
      "Requirement already satisfied: numba>=0.51.0 in c:\\users\\erick\\appdata\\local\\programs\\python\\python312\\lib\\site-packages (from librosa) (0.59.1)\n",
      "Requirement already satisfied: soundfile>=0.12.1 in c:\\users\\erick\\appdata\\local\\programs\\python\\python312\\lib\\site-packages (from librosa) (0.12.1)\n",
      "Requirement already satisfied: pooch>=1.0 in c:\\users\\erick\\appdata\\local\\programs\\python\\python312\\lib\\site-packages (from librosa) (1.8.1)\n",
      "Requirement already satisfied: soxr>=0.3.2 in c:\\users\\erick\\appdata\\local\\programs\\python\\python312\\lib\\site-packages (from librosa) (0.3.7)\n",
      "Requirement already satisfied: typing-extensions>=4.1.1 in c:\\users\\erick\\appdata\\local\\programs\\python\\python312\\lib\\site-packages (from librosa) (4.11.0)\n",
      "Requirement already satisfied: lazy-loader>=0.1 in c:\\users\\erick\\appdata\\local\\programs\\python\\python312\\lib\\site-packages (from librosa) (0.4)\n",
      "Requirement already satisfied: msgpack>=1.0 in c:\\users\\erick\\appdata\\local\\programs\\python\\python312\\lib\\site-packages (from librosa) (1.0.8)\n",
      "Requirement already satisfied: packaging in c:\\users\\erick\\appdata\\local\\programs\\python\\python312\\lib\\site-packages (from lazy-loader>=0.1->librosa) (24.0)\n",
      "Requirement already satisfied: llvmlite<0.43,>=0.42.0dev0 in c:\\users\\erick\\appdata\\local\\programs\\python\\python312\\lib\\site-packages (from numba>=0.51.0->librosa) (0.42.0)\n",
      "Requirement already satisfied: platformdirs>=2.5.0 in c:\\users\\erick\\appdata\\local\\programs\\python\\python312\\lib\\site-packages (from pooch>=1.0->librosa) (4.2.0)\n",
      "Requirement already satisfied: requests>=2.19.0 in c:\\users\\erick\\appdata\\local\\programs\\python\\python312\\lib\\site-packages (from pooch>=1.0->librosa) (2.31.0)\n",
      "Requirement already satisfied: threadpoolctl>=2.0.0 in c:\\users\\erick\\appdata\\local\\programs\\python\\python312\\lib\\site-packages (from scikit-learn>=0.20.0->librosa) (3.4.0)\n",
      "Requirement already satisfied: cffi>=1.0 in c:\\users\\erick\\appdata\\local\\programs\\python\\python312\\lib\\site-packages (from soundfile>=0.12.1->librosa) (1.16.0)\n",
      "Requirement already satisfied: pycparser in c:\\users\\erick\\appdata\\local\\programs\\python\\python312\\lib\\site-packages (from cffi>=1.0->soundfile>=0.12.1->librosa) (2.22)\n",
      "Requirement already satisfied: charset-normalizer<4,>=2 in c:\\users\\erick\\appdata\\local\\programs\\python\\python312\\lib\\site-packages (from requests>=2.19.0->pooch>=1.0->librosa) (3.3.2)\n",
      "Requirement already satisfied: idna<4,>=2.5 in c:\\users\\erick\\appdata\\local\\programs\\python\\python312\\lib\\site-packages (from requests>=2.19.0->pooch>=1.0->librosa) (3.6)\n",
      "Requirement already satisfied: urllib3<3,>=1.21.1 in c:\\users\\erick\\appdata\\local\\programs\\python\\python312\\lib\\site-packages (from requests>=2.19.0->pooch>=1.0->librosa) (2.2.1)\n",
      "Requirement already satisfied: certifi>=2017.4.17 in c:\\users\\erick\\appdata\\local\\programs\\python\\python312\\lib\\site-packages (from requests>=2.19.0->pooch>=1.0->librosa) (2024.2.2)\n"
     ]
    }
   ],
   "source": [
    "!pip install pandas\n",
    "!pip install scikit-learn\n",
    "!pip install librosa"
   ]
  },
  {
   "cell_type": "code",
   "execution_count": 152,
   "id": "56f8e80c-46cd-4724-b616-44fcbec6ba04",
   "metadata": {},
   "outputs": [
    {
     "name": "stdout",
     "output_type": "stream",
     "text": [
      "Requirement already satisfied: joblib in c:\\users\\erick\\appdata\\local\\programs\\python\\python312\\lib\\site-packages (1.4.0)\n"
     ]
    }
   ],
   "source": [
    "!pip install joblib"
   ]
  },
  {
   "cell_type": "code",
   "execution_count": 191,
   "id": "99b5e4c8-99b5-40bc-88dc-bd91b3ba4129",
   "metadata": {},
   "outputs": [],
   "source": [
    "import os\n",
    "import pandas as pd\n",
    "import librosa\n",
    "import numpy as np\n",
    "from joblib import dump, load\n",
    "from sklearn.metrics import confusion_matrix, ConfusionMatrixDisplay\n",
    "import matplotlib.pyplot as plt"
   ]
  },
  {
   "cell_type": "code",
   "execution_count": 32,
   "id": "40afda42-c94e-4460-9c77-736872da5ae4",
   "metadata": {},
   "outputs": [],
   "source": [
    "#Walk through the directory collecting all the wav files\n",
    "def collect_filepaths():\n",
    "    wavfiles = []\n",
    "    rd = os.path.join(\".\",\"classifier\",\"training\")\n",
    "    \n",
    "    for root, subdirs, files in os.walk(rd):\n",
    "        for file in files:\n",
    "            if file.endswith(\".wav\"):\n",
    "                wavfiles.append(os.path.join(root, file))\n",
    "\n",
    "    return wavfiles"
   ]
  },
  {
   "cell_type": "code",
   "execution_count": 38,
   "id": "fc0abc8c-9d36-4ba9-b9b4-81e971a11317",
   "metadata": {},
   "outputs": [],
   "source": [
    "def collect_label(dirname):\n",
    "    return dirname.split(\"\\\\\")[-1].split(\"_\")[0].strip()"
   ]
  },
  {
   "cell_type": "code",
   "execution_count": 156,
   "id": "5e1f68a9-dc34-4855-a071-9e043e363bd3",
   "metadata": {},
   "outputs": [],
   "source": [
    "def load_files(dirname):\n",
    "    signal, sr = librosa.load(dirname, sr=44100)\n",
    "    return signal\n",
    "    "
   ]
  },
  {
   "cell_type": "code",
   "execution_count": 309,
   "id": "912c5193-f452-4ee9-b740-f4b854b884c6",
   "metadata": {},
   "outputs": [],
   "source": [
    "def extract_mfccs(signal, n_equal_chunks, use_hanning):\n",
    "    chunked_signal = np.split(signal, n_equal_chunks)\n",
    "\n",
    "    if use_hanning:\n",
    "        hann_len = len(chunked_signal[0])\n",
    "        hanning = np.hanning(hann_len)\n",
    "        chunked_signal = [chunk * hanning for chunk in chunked_signal]\n",
    "    \n",
    "    \n",
    "    \n",
    "    res = [np.mean(librosa.feature.mfcc(y=signal_chunk, n_mfcc=40, sr=44100).T, axis=0) for signal_chunk in chunked_signal]\n",
    "    \n",
    "    # return np.mean(librosa.feature.mfcc(y=signal, n_mfcc=40, sr=44100).T, axis=0)\n",
    "    return res"
   ]
  },
  {
   "cell_type": "code",
   "execution_count": 205,
   "id": "b508f0ba-223c-41e4-988d-b4513ba555c2",
   "metadata": {},
   "outputs": [],
   "source": [
    "def extract_stft(signal):\n",
    "    return np.abs(librosa.stft(y=signal))"
   ]
  },
  {
   "cell_type": "code",
   "execution_count": 206,
   "id": "80ea5e90-55db-450b-9244-a07d2db097a2",
   "metadata": {},
   "outputs": [],
   "source": [
    "def extract_melspectrogram(signal):\n",
    "    return np.mean(librosa.feature.melspectrogram(y=signal, sr = 44100).T, axis=0)"
   ]
  },
  {
   "cell_type": "code",
   "execution_count": 207,
   "id": "fd443c7e-5e4a-4fe7-85e4-c8996ede1729",
   "metadata": {},
   "outputs": [
    {
     "data": {
      "text/plain": [
       "(40,)"
      ]
     },
     "execution_count": 207,
     "metadata": {},
     "output_type": "execute_result"
    }
   ],
   "source": [
    "temp_signal = df_PTK.iloc[3,2]\n",
    "extract_mfccs(temp_signal).shape"
   ]
  },
  {
   "cell_type": "code",
   "execution_count": 307,
   "id": "9920e935-6dbf-48b5-9d4e-bc03dd07f57e",
   "metadata": {},
   "outputs": [],
   "source": [
    "def build_df(df_PTK, signal_length_cap, n_equal_chunks, use_hanning, excluded_phones=[]):\n",
    "    df_PTK['dirname'] = collect_filepaths()\n",
    "    df_PTK['label'] = df_PTK['dirname'].apply(collect_label)\n",
    "    df_PTK = df_PTK[~df_PTK['label'].isin(excluded_phones)]\n",
    "    df_PTK['signal'] = df_PTK['dirname'].apply(load_files)\n",
    "    df_PTK['signal'] = df_PTK['signal'].apply(lambda signal: librosa.util.fix_length(signal, size=signal_length_cap))\n",
    "    df_PTK['feature_mfccs'] = df_PTK['signal'].apply(lambda signal: extract_mfccs(signal, n_equal_chunks, use_hanning))\n",
    "    df_PTK['feature_melspectrogram'] = df_PTK['signal'].apply(extract_melspectrogram)\n",
    "    df_PTK['len'] = df_PTK['signal'].apply(lambda y: librosa.get_duration(y=y, sr=44100))\n",
    "    df_PTK = df_PTK.explode(\"feature_mfccs\")\n",
    "    \n",
    "    return df_PTK"
   ]
  },
  {
   "cell_type": "code",
   "execution_count": 326,
   "id": "c3b8dc04-1abd-475a-830d-fc5b2b1fefa9",
   "metadata": {},
   "outputs": [
    {
     "name": "stderr",
     "output_type": "stream",
     "text": [
      "C:\\Users\\Erick\\AppData\\Local\\Temp\\ipykernel_9984\\19414165.py:5: SettingWithCopyWarning: \n",
      "A value is trying to be set on a copy of a slice from a DataFrame.\n",
      "Try using .loc[row_indexer,col_indexer] = value instead\n",
      "\n",
      "See the caveats in the documentation: https://pandas.pydata.org/pandas-docs/stable/user_guide/indexing.html#returning-a-view-versus-a-copy\n",
      "  df_PTK['signal'] = df_PTK['dirname'].apply(load_files)\n",
      "C:\\Users\\Erick\\AppData\\Local\\Temp\\ipykernel_9984\\19414165.py:6: SettingWithCopyWarning: \n",
      "A value is trying to be set on a copy of a slice from a DataFrame.\n",
      "Try using .loc[row_indexer,col_indexer] = value instead\n",
      "\n",
      "See the caveats in the documentation: https://pandas.pydata.org/pandas-docs/stable/user_guide/indexing.html#returning-a-view-versus-a-copy\n",
      "  df_PTK['signal'] = df_PTK['signal'].apply(lambda signal: librosa.util.fix_length(signal, size=signal_length_cap))\n",
      "C:\\Users\\Erick\\AppData\\Local\\Temp\\ipykernel_9984\\19414165.py:7: SettingWithCopyWarning: \n",
      "A value is trying to be set on a copy of a slice from a DataFrame.\n",
      "Try using .loc[row_indexer,col_indexer] = value instead\n",
      "\n",
      "See the caveats in the documentation: https://pandas.pydata.org/pandas-docs/stable/user_guide/indexing.html#returning-a-view-versus-a-copy\n",
      "  df_PTK['feature_mfccs'] = df_PTK['signal'].apply(lambda signal: extract_mfccs(signal, n_equal_chunks, use_hanning))\n",
      "C:\\Users\\Erick\\AppData\\Local\\Temp\\ipykernel_9984\\19414165.py:8: SettingWithCopyWarning: \n",
      "A value is trying to be set on a copy of a slice from a DataFrame.\n",
      "Try using .loc[row_indexer,col_indexer] = value instead\n",
      "\n",
      "See the caveats in the documentation: https://pandas.pydata.org/pandas-docs/stable/user_guide/indexing.html#returning-a-view-versus-a-copy\n",
      "  df_PTK['feature_melspectrogram'] = df_PTK['signal'].apply(extract_melspectrogram)\n",
      "C:\\Users\\Erick\\AppData\\Local\\Temp\\ipykernel_9984\\19414165.py:9: SettingWithCopyWarning: \n",
      "A value is trying to be set on a copy of a slice from a DataFrame.\n",
      "Try using .loc[row_indexer,col_indexer] = value instead\n",
      "\n",
      "See the caveats in the documentation: https://pandas.pydata.org/pandas-docs/stable/user_guide/indexing.html#returning-a-view-versus-a-copy\n",
      "  df_PTK['len'] = df_PTK['signal'].apply(lambda y: librosa.get_duration(y=y, sr=44100))\n"
     ]
    }
   ],
   "source": [
    "SIGNAL_LENGTH_CAP = 16384\n",
    "df_PTK = pd.DataFrame()\n",
    "df_PTK = build_df(df_PTK, SIGNAL_LENGTH_CAP, 2, False, excluded_phones=[\"t\"])"
   ]
  },
  {
   "cell_type": "code",
   "execution_count": 319,
   "id": "0f171cf1-b666-4271-865e-024d2559cafc",
   "metadata": {},
   "outputs": [
    {
     "data": {
      "text/plain": [
       "label\n",
       "dj         800\n",
       "k          800\n",
       "p          800\n",
       "silence    600\n",
       "vowel      196\n",
       "Name: count, dtype: int64"
      ]
     },
     "execution_count": 319,
     "metadata": {},
     "output_type": "execute_result"
    }
   ],
   "source": [
    "df_PTK['label'].value_counts()"
   ]
  },
  {
   "cell_type": "code",
   "execution_count": 312,
   "id": "3d45d85c-0db2-4698-b20c-66dbceeeef48",
   "metadata": {},
   "outputs": [
    {
     "data": {
      "text/html": [
       "<div>\n",
       "<style scoped>\n",
       "    .dataframe tbody tr th:only-of-type {\n",
       "        vertical-align: middle;\n",
       "    }\n",
       "\n",
       "    .dataframe tbody tr th {\n",
       "        vertical-align: top;\n",
       "    }\n",
       "\n",
       "    .dataframe thead th {\n",
       "        text-align: right;\n",
       "    }\n",
       "</style>\n",
       "<table border=\"1\" class=\"dataframe\">\n",
       "  <thead>\n",
       "    <tr style=\"text-align: right;\">\n",
       "      <th></th>\n",
       "      <th>dirname</th>\n",
       "      <th>label</th>\n",
       "      <th>signal</th>\n",
       "      <th>feature_mfccs</th>\n",
       "      <th>feature_melspectrogram</th>\n",
       "      <th>len</th>\n",
       "    </tr>\n",
       "  </thead>\n",
       "  <tbody>\n",
       "    <tr>\n",
       "      <th>0</th>\n",
       "      <td>.\\classifier\\training\\data\\dj\\dj_1.wav</td>\n",
       "      <td>dj</td>\n",
       "      <td>[0.0, -3.0517578e-05, 0.0, 0.0, -3.0517578e-05...</td>\n",
       "      <td>[-500.3109103543269, 169.5511988853819, -105.8...</td>\n",
       "      <td>[0.00010913272, 0.022877565, 0.16265218, 0.098...</td>\n",
       "      <td>0.371519</td>\n",
       "    </tr>\n",
       "    <tr>\n",
       "      <th>0</th>\n",
       "      <td>.\\classifier\\training\\data\\dj\\dj_1.wav</td>\n",
       "      <td>dj</td>\n",
       "      <td>[0.0, -3.0517578e-05, 0.0, 0.0, -3.0517578e-05...</td>\n",
       "      <td>[-739.3897251074953, 145.3122785755209, -50.81...</td>\n",
       "      <td>[0.00010913272, 0.022877565, 0.16265218, 0.098...</td>\n",
       "      <td>0.371519</td>\n",
       "    </tr>\n",
       "    <tr>\n",
       "      <th>1</th>\n",
       "      <td>.\\classifier\\training\\data\\dj\\dj_10.wav</td>\n",
       "      <td>dj</td>\n",
       "      <td>[-0.0020751953, -0.0017700195, -0.0014038086, ...</td>\n",
       "      <td>[-571.7040910652038, 142.02698319170096, -145....</td>\n",
       "      <td>[7.968311e-05, 0.015476299, 0.14247048, 0.1146...</td>\n",
       "      <td>0.371519</td>\n",
       "    </tr>\n",
       "    <tr>\n",
       "      <th>1</th>\n",
       "      <td>.\\classifier\\training\\data\\dj\\dj_10.wav</td>\n",
       "      <td>dj</td>\n",
       "      <td>[-0.0020751953, -0.0017700195, -0.0014038086, ...</td>\n",
       "      <td>[-616.5183588219815, 183.57189264453908, -46.2...</td>\n",
       "      <td>[7.968311e-05, 0.015476299, 0.14247048, 0.1146...</td>\n",
       "      <td>0.371519</td>\n",
       "    </tr>\n",
       "    <tr>\n",
       "      <th>2</th>\n",
       "      <td>.\\classifier\\training\\data\\dj\\dj_100.wav</td>\n",
       "      <td>dj</td>\n",
       "      <td>[-0.0034179688, -0.004180908, -0.004760742, -0...</td>\n",
       "      <td>[-546.6458960500805, 186.10602610189758, -99.7...</td>\n",
       "      <td>[7.1714465e-05, 0.012829836, 0.11107579, 0.078...</td>\n",
       "      <td>0.371519</td>\n",
       "    </tr>\n",
       "    <tr>\n",
       "      <th>...</th>\n",
       "      <td>...</td>\n",
       "      <td>...</td>\n",
       "      <td>...</td>\n",
       "      <td>...</td>\n",
       "      <td>...</td>\n",
       "      <td>...</td>\n",
       "    </tr>\n",
       "    <tr>\n",
       "      <th>946</th>\n",
       "      <td>.\\classifier\\training\\data\\vowel\\vowel_7.wav</td>\n",
       "      <td>vowel</td>\n",
       "      <td>[-0.005340576, -0.0035095215, -0.0018005371, -...</td>\n",
       "      <td>[-575.2215346129743, 223.38122340774353, -61.3...</td>\n",
       "      <td>[0.00027359647, 0.028510738, 0.4617045, 0.5503...</td>\n",
       "      <td>0.371519</td>\n",
       "    </tr>\n",
       "    <tr>\n",
       "      <th>947</th>\n",
       "      <td>.\\classifier\\training\\data\\vowel\\vowel_8.wav</td>\n",
       "      <td>vowel</td>\n",
       "      <td>[-0.0027160645, -0.0045776367, -0.0058288574, ...</td>\n",
       "      <td>[-565.6692862728265, 208.14326603334362, -65.1...</td>\n",
       "      <td>[0.0004909379, 0.01673067, 0.24976721, 0.29010...</td>\n",
       "      <td>0.371519</td>\n",
       "    </tr>\n",
       "    <tr>\n",
       "      <th>947</th>\n",
       "      <td>.\\classifier\\training\\data\\vowel\\vowel_8.wav</td>\n",
       "      <td>vowel</td>\n",
       "      <td>[-0.0027160645, -0.0045776367, -0.0058288574, ...</td>\n",
       "      <td>[-682.7754263523086, 154.338933025062, -38.004...</td>\n",
       "      <td>[0.0004909379, 0.01673067, 0.24976721, 0.29010...</td>\n",
       "      <td>0.371519</td>\n",
       "    </tr>\n",
       "    <tr>\n",
       "      <th>948</th>\n",
       "      <td>.\\classifier\\training\\data\\vowel\\vowel_9.wav</td>\n",
       "      <td>vowel</td>\n",
       "      <td>[0.0028686523, 0.002746582, 0.0025939941, 0.00...</td>\n",
       "      <td>[-690.6190523569264, 142.94231513576432, -35.3...</td>\n",
       "      <td>[0.0003567263, 0.004568134, 0.118705735, 0.217...</td>\n",
       "      <td>0.371519</td>\n",
       "    </tr>\n",
       "    <tr>\n",
       "      <th>948</th>\n",
       "      <td>.\\classifier\\training\\data\\vowel\\vowel_9.wav</td>\n",
       "      <td>vowel</td>\n",
       "      <td>[0.0028686523, 0.002746582, 0.0025939941, 0.00...</td>\n",
       "      <td>[-703.0040218115114, 141.1022499884153, -36.63...</td>\n",
       "      <td>[0.0003567263, 0.004568134, 0.118705735, 0.217...</td>\n",
       "      <td>0.371519</td>\n",
       "    </tr>\n",
       "  </tbody>\n",
       "</table>\n",
       "<p>1498 rows × 6 columns</p>\n",
       "</div>"
      ],
      "text/plain": [
       "                                          dirname  label  \\\n",
       "0          .\\classifier\\training\\data\\dj\\dj_1.wav     dj   \n",
       "0          .\\classifier\\training\\data\\dj\\dj_1.wav     dj   \n",
       "1         .\\classifier\\training\\data\\dj\\dj_10.wav     dj   \n",
       "1         .\\classifier\\training\\data\\dj\\dj_10.wav     dj   \n",
       "2        .\\classifier\\training\\data\\dj\\dj_100.wav     dj   \n",
       "..                                            ...    ...   \n",
       "946  .\\classifier\\training\\data\\vowel\\vowel_7.wav  vowel   \n",
       "947  .\\classifier\\training\\data\\vowel\\vowel_8.wav  vowel   \n",
       "947  .\\classifier\\training\\data\\vowel\\vowel_8.wav  vowel   \n",
       "948  .\\classifier\\training\\data\\vowel\\vowel_9.wav  vowel   \n",
       "948  .\\classifier\\training\\data\\vowel\\vowel_9.wav  vowel   \n",
       "\n",
       "                                                signal  \\\n",
       "0    [0.0, -3.0517578e-05, 0.0, 0.0, -3.0517578e-05...   \n",
       "0    [0.0, -3.0517578e-05, 0.0, 0.0, -3.0517578e-05...   \n",
       "1    [-0.0020751953, -0.0017700195, -0.0014038086, ...   \n",
       "1    [-0.0020751953, -0.0017700195, -0.0014038086, ...   \n",
       "2    [-0.0034179688, -0.004180908, -0.004760742, -0...   \n",
       "..                                                 ...   \n",
       "946  [-0.005340576, -0.0035095215, -0.0018005371, -...   \n",
       "947  [-0.0027160645, -0.0045776367, -0.0058288574, ...   \n",
       "947  [-0.0027160645, -0.0045776367, -0.0058288574, ...   \n",
       "948  [0.0028686523, 0.002746582, 0.0025939941, 0.00...   \n",
       "948  [0.0028686523, 0.002746582, 0.0025939941, 0.00...   \n",
       "\n",
       "                                         feature_mfccs  \\\n",
       "0    [-500.3109103543269, 169.5511988853819, -105.8...   \n",
       "0    [-739.3897251074953, 145.3122785755209, -50.81...   \n",
       "1    [-571.7040910652038, 142.02698319170096, -145....   \n",
       "1    [-616.5183588219815, 183.57189264453908, -46.2...   \n",
       "2    [-546.6458960500805, 186.10602610189758, -99.7...   \n",
       "..                                                 ...   \n",
       "946  [-575.2215346129743, 223.38122340774353, -61.3...   \n",
       "947  [-565.6692862728265, 208.14326603334362, -65.1...   \n",
       "947  [-682.7754263523086, 154.338933025062, -38.004...   \n",
       "948  [-690.6190523569264, 142.94231513576432, -35.3...   \n",
       "948  [-703.0040218115114, 141.1022499884153, -36.63...   \n",
       "\n",
       "                                feature_melspectrogram       len  \n",
       "0    [0.00010913272, 0.022877565, 0.16265218, 0.098...  0.371519  \n",
       "0    [0.00010913272, 0.022877565, 0.16265218, 0.098...  0.371519  \n",
       "1    [7.968311e-05, 0.015476299, 0.14247048, 0.1146...  0.371519  \n",
       "1    [7.968311e-05, 0.015476299, 0.14247048, 0.1146...  0.371519  \n",
       "2    [7.1714465e-05, 0.012829836, 0.11107579, 0.078...  0.371519  \n",
       "..                                                 ...       ...  \n",
       "946  [0.00027359647, 0.028510738, 0.4617045, 0.5503...  0.371519  \n",
       "947  [0.0004909379, 0.01673067, 0.24976721, 0.29010...  0.371519  \n",
       "947  [0.0004909379, 0.01673067, 0.24976721, 0.29010...  0.371519  \n",
       "948  [0.0003567263, 0.004568134, 0.118705735, 0.217...  0.371519  \n",
       "948  [0.0003567263, 0.004568134, 0.118705735, 0.217...  0.371519  \n",
       "\n",
       "[1498 rows x 6 columns]"
      ]
     },
     "execution_count": 312,
     "metadata": {},
     "output_type": "execute_result"
    }
   ],
   "source": [
    "df_PTK"
   ]
  },
  {
   "cell_type": "code",
   "execution_count": 265,
   "id": "669b35a1-e627-45c4-b04f-27b164d1d26e",
   "metadata": {},
   "outputs": [
    {
     "data": {
      "text/plain": [
       "19.789593348450488"
      ]
     },
     "execution_count": 265,
     "metadata": {},
     "output_type": "execute_result"
    }
   ],
   "source": [
    "df_PTK['len'].sum() / 60"
   ]
  },
  {
   "cell_type": "markdown",
   "id": "56d78240-087e-49b8-9ce1-7dfdf1abdb5a",
   "metadata": {},
   "source": [
    "# Machine Learning"
   ]
  },
  {
   "cell_type": "code",
   "execution_count": 217,
   "id": "1f01371f-45de-4454-b8b4-088197ea5dde",
   "metadata": {},
   "outputs": [],
   "source": [
    "from sklearn.linear_model import LogisticRegression\n",
    "from sklearn.model_selection import train_test_split"
   ]
  },
  {
   "cell_type": "code",
   "execution_count": 278,
   "id": "14dfbcae-881e-4efe-90bd-6f8ec08bbe16",
   "metadata": {},
   "outputs": [],
   "source": [
    "# >>> X_train, X_test, y_train, y_test = train_test_split(\n",
    "# ...     X, y, test_size=0.33, random_state=42)\n",
    "\n",
    "def make_features(mfccs=True, mel_spectrograms=True):\n",
    "    f_mfccs = []\n",
    "    f_mel_spectrograms = []\n",
    "\n",
    "    if mfccs:\n",
    "        f_mfccs = df_PTK['feature_mfccs'].tolist()\n",
    "\n",
    "    if mel_spectrograms:\n",
    "        f_mel_spectrograms = df_PTK['feature_melspectrogram'].tolist()\n",
    "\n",
    "    return np.hstack((f_mfccs, f_mel_spectrograms))\n",
    "    # return f_mfccs"
   ]
  },
  {
   "cell_type": "code",
   "execution_count": 329,
   "id": "dcd3dd5e-7929-4114-9b8f-b6978edd5076",
   "metadata": {},
   "outputs": [],
   "source": [
    "def train_model(dump_model = True, C=1.0, balanced=True):\n",
    "    X = make_features()\n",
    "    y = df_PTK['label'].to_list()\n",
    "    \n",
    "    X_train, X_test, y_train, y_test = train_test_split(X, y, test_size=0.20, random_state=168)\n",
    "\n",
    "    model = LogisticRegression(C=C, class_weight=\"balanced\")\n",
    "    model.fit(X_train, y_train)\n",
    "\n",
    "    if dump_model: dump(model, \"lr_dump.joblib\")\n",
    "    \n",
    "    predictions = model.predict(X_test) \n",
    "    \n",
    "    correct = 0\n",
    "    for pred, act in zip(predictions, y_test):\n",
    "        if pred == act:\n",
    "            correct += 1\n",
    "\n",
    "\n",
    "    print(f\"Acc: {correct / len(y_test)}\")\n",
    "    \n",
    "    return predictions, y_test, model.classes_"
   ]
  },
  {
   "cell_type": "code",
   "execution_count": 330,
   "id": "1efabe88-4176-4dc9-98c1-c8c4a0b70c2d",
   "metadata": {},
   "outputs": [
    {
     "name": "stdout",
     "output_type": "stream",
     "text": [
      "Acc: 0.95625\n"
     ]
    },
    {
     "name": "stderr",
     "output_type": "stream",
     "text": [
      "C:\\Users\\Erick\\AppData\\Local\\Programs\\Python\\Python312\\Lib\\site-packages\\sklearn\\linear_model\\_logistic.py:469: ConvergenceWarning: lbfgs failed to converge (status=1):\n",
      "STOP: TOTAL NO. of ITERATIONS REACHED LIMIT.\n",
      "\n",
      "Increase the number of iterations (max_iter) or scale the data as shown in:\n",
      "    https://scikit-learn.org/stable/modules/preprocessing.html\n",
      "Please also refer to the documentation for alternative solver options:\n",
      "    https://scikit-learn.org/stable/modules/linear_model.html#logistic-regression\n",
      "  n_iter_i = _check_optimize_result(\n"
     ]
    },
    {
     "data": {
      "image/png": "[encoded data removed]",
      "text/plain": [
       "<Figure size 640x480 with 2 Axes>"
      ]
     },
     "metadata": {},
     "output_type": "display_data"
    }
   ],
   "source": [
    "preds, y_test, classes = train_model(C=0.01, balanced=True)\n",
    "cm = confusion_matrix(y_test, preds, labels = classes )\n",
    "disp = ConfusionMatrixDisplay(confusion_matrix=cm, display_labels=classes)\n",
    "\n",
    "disp.plot()\n",
    "plt.show()"
   ]
  },
  {
   "cell_type": "code",
   "execution_count": null,
   "id": "3359342e-6e95-46e3-b6ab-731a33919533",
   "metadata": {},
   "outputs": [],
   "source": []
  },
  {
   "cell_type": "code",
   "execution_count": null,
   "id": "6f83db2c-073c-4e2f-935e-6880da304606",
   "metadata": {},
   "outputs": [],
   "source": []
  },
  {
   "cell_type": "code",
   "execution_count": null,
   "id": "03d08233-d778-4cf4-9eca-401a46a0bfc6",
   "metadata": {},
   "outputs": [],
   "source": []
  }
 ],
 "metadata": {
  "kernelspec": {
   "display_name": "Python 3 (ipykernel)",
   "language": "python",
   "name": "python3"
  },
  "language_info": {
   "codemirror_mode": {
    "name": "ipython",
    "version": 3
   },
   "file_extension": ".py",
   "mimetype": "text/x-python",
   "name": "python",
   "nbconvert_exporter": "python",
   "pygments_lexer": "ipython3",
   "version": "3.12.2"
  }
 },
 "nbformat": 4,
 "nbformat_minor": 5
}
